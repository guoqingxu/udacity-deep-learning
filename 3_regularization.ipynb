{
 "cells": [
  {
   "cell_type": "markdown",
   "metadata": {
    "colab_type": "text",
    "id": "kR-4eNdK6lYS"
   },
   "source": [
    "Deep Learning\n",
    "=============\n",
    "\n",
    "Assignment 3\n",
    "------------\n",
    "\n",
    "Previously in `2_fullyconnected.ipynb`, you trained a logistic regression and a neural network model.\n",
    "\n",
    "The goal of this assignment is to explore regularization techniques."
   ]
  },
  {
   "cell_type": "code",
   "execution_count": 24,
   "metadata": {
    "cellView": "both",
    "colab": {
     "autoexec": {
      "startup": false,
      "wait_interval": 0
     }
    },
    "colab_type": "code",
    "collapsed": true,
    "id": "JLpLa8Jt7Vu4"
   },
   "outputs": [],
   "source": [
    "# These are all the modules we'll be using later. Make sure you can import them\n",
    "# before proceeding further.\n",
    "from __future__ import print_function\n",
    "import numpy as np\n",
    "import tensorflow as tf\n",
    "from six.moves import cPickle as pickle"
   ]
  },
  {
   "cell_type": "markdown",
   "metadata": {
    "colab_type": "text",
    "id": "1HrCK6e17WzV"
   },
   "source": [
    "First reload the data we generated in _notmist.ipynb_."
   ]
  },
  {
   "cell_type": "code",
   "execution_count": 25,
   "metadata": {
    "cellView": "both",
    "colab": {
     "autoexec": {
      "startup": false,
      "wait_interval": 0
     },
     "output_extras": [
      {
       "item_id": 1
      }
     ]
    },
    "colab_type": "code",
    "collapsed": false,
    "executionInfo": {
     "elapsed": 11777,
     "status": "ok",
     "timestamp": 1449849322348,
     "user": {
      "color": "",
      "displayName": "",
      "isAnonymous": false,
      "isMe": true,
      "permissionId": "",
      "photoUrl": "",
      "sessionId": "0",
      "userId": ""
     },
     "user_tz": 480
    },
    "id": "y3-cj1bpmuxc",
    "outputId": "e03576f1-ebbe-4838-c388-f1777bcc9873"
   },
   "outputs": [
    {
     "name": "stdout",
     "output_type": "stream",
     "text": [
      "Training set (200000, 28, 28) (200000,)\n",
      "Validation set (10000, 28, 28) (10000,)\n",
      "Test set (10000, 28, 28) (10000,)\n"
     ]
    }
   ],
   "source": [
    "pickle_file = 'notMNIST.pickle'\n",
    "\n",
    "with open(pickle_file, 'rb') as f:\n",
    "  save = pickle.load(f)\n",
    "  train_dataset = save['train_dataset']\n",
    "  train_labels = save['train_labels']\n",
    "  valid_dataset = save['valid_dataset']\n",
    "  valid_labels = save['valid_labels']\n",
    "  test_dataset = save['test_dataset']\n",
    "  test_labels = save['test_labels']\n",
    "  del save  # hint to help gc free up memory\n",
    "  print('Training set', train_dataset.shape, train_labels.shape)\n",
    "  print('Validation set', valid_dataset.shape, valid_labels.shape)\n",
    "  print('Test set', test_dataset.shape, test_labels.shape)"
   ]
  },
  {
   "cell_type": "markdown",
   "metadata": {
    "colab_type": "text",
    "id": "L7aHrm6nGDMB"
   },
   "source": [
    "Reformat into a shape that's more adapted to the models we're going to train:\n",
    "- data as a flat matrix,\n",
    "- labels as float 1-hot encodings."
   ]
  },
  {
   "cell_type": "code",
   "execution_count": 26,
   "metadata": {
    "cellView": "both",
    "colab": {
     "autoexec": {
      "startup": false,
      "wait_interval": 0
     },
     "output_extras": [
      {
       "item_id": 1
      }
     ]
    },
    "colab_type": "code",
    "collapsed": false,
    "executionInfo": {
     "elapsed": 11728,
     "status": "ok",
     "timestamp": 1449849322356,
     "user": {
      "color": "",
      "displayName": "",
      "isAnonymous": false,
      "isMe": true,
      "permissionId": "",
      "photoUrl": "",
      "sessionId": "0",
      "userId": ""
     },
     "user_tz": 480
    },
    "id": "IRSyYiIIGIzS",
    "outputId": "3f8996ee-3574-4f44-c953-5c8a04636582"
   },
   "outputs": [
    {
     "name": "stdout",
     "output_type": "stream",
     "text": [
      "Training set (200000, 784) (200000, 10)\n",
      "Validation set (10000, 784) (10000, 10)\n",
      "Test set (10000, 784) (10000, 10)\n"
     ]
    }
   ],
   "source": [
    "image_size = 28\n",
    "num_labels = 10\n",
    "\n",
    "def reformat(dataset, labels):\n",
    "  dataset = dataset.reshape((-1, image_size * image_size)).astype(np.float32)\n",
    "  # Map 2 to [0.0, 1.0, 0.0 ...], 3 to [0.0, 0.0, 1.0 ...]\n",
    "  labels = (np.arange(num_labels) == labels[:,None]).astype(np.float32)\n",
    "  return dataset, labels\n",
    "train_dataset, train_labels = reformat(train_dataset, train_labels)\n",
    "valid_dataset, valid_labels = reformat(valid_dataset, valid_labels)\n",
    "test_dataset, test_labels = reformat(test_dataset, test_labels)\n",
    "print('Training set', train_dataset.shape, train_labels.shape)\n",
    "print('Validation set', valid_dataset.shape, valid_labels.shape)\n",
    "print('Test set', test_dataset.shape, test_labels.shape)"
   ]
  },
  {
   "cell_type": "code",
   "execution_count": 27,
   "metadata": {
    "cellView": "both",
    "colab": {
     "autoexec": {
      "startup": false,
      "wait_interval": 0
     }
    },
    "colab_type": "code",
    "collapsed": true,
    "id": "RajPLaL_ZW6w"
   },
   "outputs": [],
   "source": [
    "def accuracy(predictions, labels):\n",
    "  return (100.0 * np.sum(np.argmax(predictions, 1) == np.argmax(labels, 1))\n",
    "          / predictions.shape[0])"
   ]
  },
  {
   "cell_type": "markdown",
   "metadata": {
    "colab_type": "text",
    "id": "sgLbUAQ1CW-1"
   },
   "source": [
    "---\n",
    "Problem 1\n",
    "---------\n",
    "\n",
    "Introduce and tune L2 regularization for both logistic and neural network models. Remember that L2 amounts to adding a penalty on the norm of the weights to the loss. In TensorFlow, you can compute the L2 loss for a tensor `t` using `nn.l2_loss(t)`. The right amount of regularization should improve your validation / test accuracy.\n",
    "\n",
    "---"
   ]
  },
  {
   "cell_type": "code",
   "execution_count": 28,
   "metadata": {
    "collapsed": false
   },
   "outputs": [
    {
     "name": "stdout",
     "output_type": "stream",
     "text": [
      "Initialized\n",
      "Minibatch loss at step 0: 570.143372\n",
      "Minibatch accuracy: 9.4%\n",
      "Validation accuracy: 24.2%\n",
      "Minibatch loss at step 500: 161.701416\n",
      "Minibatch accuracy: 82.8%\n",
      "Validation accuracy: 62.2%\n",
      "Minibatch loss at step 1000: 127.603317\n",
      "Minibatch accuracy: 83.6%\n",
      "Validation accuracy: 64.6%\n",
      "Minibatch loss at step 1500: 110.575958\n",
      "Minibatch accuracy: 83.6%\n",
      "Validation accuracy: 65.0%\n",
      "Minibatch loss at step 2000: 95.852554\n",
      "Minibatch accuracy: 80.5%\n",
      "Validation accuracy: 64.9%\n",
      "Minibatch loss at step 2500: 85.521713\n",
      "Minibatch accuracy: 82.8%\n",
      "Validation accuracy: 64.5%\n",
      "Minibatch loss at step 3000: 74.042038\n",
      "Minibatch accuracy: 87.5%\n",
      "Validation accuracy: 65.7%\n",
      "Test accuracy: 90.6%\n"
     ]
    }
   ],
   "source": [
    "batch_size = 128\n",
    "num_hidden_nodes = 1024\n",
    "\n",
    "graph = tf.Graph()\n",
    "with graph.as_default():\n",
    "\n",
    "  # Input data. For the training data, we use a placeholder that will be fed\n",
    "  # at run time with a training minibatch.\n",
    "  tf_train_dataset = tf.placeholder(tf.float32,\n",
    "                                    shape=(None, image_size * image_size))\n",
    "  tf_train_labels = tf.placeholder(tf.float32, shape=(None, num_labels))\n",
    "\n",
    "  weights_h0 = tf.Variable(\n",
    "    tf.truncated_normal([image_size * image_size, num_hidden_nodes]))\n",
    "  biases_h0 = tf.Variable(tf.zeros([num_hidden_nodes]))\n",
    "  h0 = tf.nn.relu(tf.matmul(tf_train_dataset, weights_h0) + biases_h0)\n",
    "\n",
    "  # Variables.\n",
    "  weights = tf.Variable(\n",
    "    tf.truncated_normal([num_hidden_nodes, num_labels]))\n",
    "  biases = tf.Variable(tf.zeros([num_labels]))\n",
    "  \n",
    "  # Training computation.\n",
    "  logits = tf.matmul(h0, weights) + biases\n",
    "  loss = tf.reduce_mean(\n",
    "    tf.nn.softmax_cross_entropy_with_logits(logits, tf_train_labels))\n",
    "  regularizers = tf.nn.l2_loss(weights_h0) + tf.nn.l2_loss(biases_h0) + tf.nn.l2_loss(weights) + tf.nn.l2_loss(biases)\n",
    "  loss += 5e-4 * regularizers\n",
    "  \n",
    "  # Optimizer.\n",
    "  optimizer = tf.train.GradientDescentOptimizer(0.25).minimize(loss)\n",
    "  \n",
    "  # Predictions for the training, validation, and test data.\n",
    "  prediction_output = tf.nn.softmax(logits)\n",
    "\n",
    "\n",
    "num_steps = 3001\n",
    "\n",
    "with tf.Session(graph=graph) as session:\n",
    "  tf.initialize_all_variables().run()\n",
    "  print(\"Initialized\")\n",
    "  for step in range(num_steps):\n",
    "    # Pick an offset within the training data, which has been randomized.\n",
    "    # Note: we could use better randomization across epochs.\n",
    "    offset = (step * batch_size) % (train_labels.shape[0] - batch_size)\n",
    "    # Generate a minibatch.\n",
    "    batch_data = train_dataset[offset:(offset + batch_size), :]\n",
    "    batch_labels = train_labels[offset:(offset + batch_size), :]\n",
    "    # Prepare a dictionary telling the session where to feed the minibatch.\n",
    "    # The key of the dictionary is the placeholder node of the graph to be fed,\n",
    "    # and the value is the numpy array to feed to it.\n",
    "    feed_dict = {tf_train_dataset : batch_data, tf_train_labels : batch_labels}\n",
    "    _, l, predictions = session.run(\n",
    "      [optimizer, loss, prediction_output], feed_dict=feed_dict)\n",
    "    if (step % 500 == 0):\n",
    "      print(\"Minibatch loss at step %d: %f\" % (step, l))\n",
    "      print(\"Minibatch accuracy: %.1f%%\" % accuracy(predictions, batch_labels))\n",
    "      print(\"Validation accuracy: %.1f%%\" % accuracy(\n",
    "        prediction_output.eval(\n",
    "                {tf_train_dataset : valid_dataset, tf_train_labels : valid_labels}), valid_labels))\n",
    "  print(\"Test accuracy: %.1f%%\" % accuracy(prediction_output.eval(\n",
    "            {tf_train_dataset : test_dataset, tf_train_labels : test_labels}), test_labels))"
   ]
  },
  {
   "cell_type": "markdown",
   "metadata": {
    "colab_type": "text",
    "id": "na8xX2yHZzNF"
   },
   "source": [
    "---\n",
    "Problem 2\n",
    "---------\n",
    "Let's demonstrate an extreme case of overfitting. Restrict your training data to just a few batches. What happens?\n",
    "\n",
    "---"
   ]
  },
  {
   "cell_type": "code",
   "execution_count": 29,
   "metadata": {
    "collapsed": false
   },
   "outputs": [
    {
     "name": "stdout",
     "output_type": "stream",
     "text": [
      "Initialized\n",
      "Minibatch loss at step 0: 433.424133\n",
      "Minibatch accuracy: 6.2%\n",
      "Validation accuracy: 22.7%\n",
      "Minibatch loss at step 500: 138.649689\n",
      "Minibatch accuracy: 100.0%\n",
      "Validation accuracy: 56.2%\n",
      "Minibatch loss at step 1000: 122.357300\n",
      "Minibatch accuracy: 100.0%\n",
      "Validation accuracy: 56.2%\n",
      "Minibatch loss at step 1500: 107.978653\n",
      "Minibatch accuracy: 100.0%\n",
      "Validation accuracy: 56.2%\n",
      "Minibatch loss at step 2000: 95.289650\n",
      "Minibatch accuracy: 100.0%\n",
      "Validation accuracy: 56.2%\n",
      "Minibatch loss at step 2500: 84.092209\n",
      "Minibatch accuracy: 100.0%\n",
      "Validation accuracy: 56.2%\n",
      "Minibatch loss at step 3000: 74.210510\n",
      "Minibatch accuracy: 100.0%\n",
      "Validation accuracy: 56.2%\n",
      "Test accuracy: 80.7%\n"
     ]
    }
   ],
   "source": [
    "small_train_dataset = train_dataset[0:512, :]\n",
    "small_train_labels = train_labels[0:512, :]\n",
    "with tf.Session(graph=graph) as session:\n",
    "  tf.initialize_all_variables().run()\n",
    "  print(\"Initialized\")\n",
    "  for step in range(num_steps):\n",
    "    # Pick an offset within the training data, which has been randomized.\n",
    "    # Note: we could use better randomization across epochs.\n",
    "    offset = (step * batch_size) % (small_train_labels.shape[0] - batch_size)\n",
    "    # Generate a minibatch.\n",
    "    batch_data = small_train_dataset[offset:(offset + batch_size), :]\n",
    "    batch_labels = small_train_labels[offset:(offset + batch_size), :]\n",
    "    # Prepare a dictionary telling the session where to feed the minibatch.\n",
    "    # The key of the dictionary is the placeholder node of the graph to be fed,\n",
    "    # and the value is the numpy array to feed to it.\n",
    "    feed_dict = {tf_train_dataset : batch_data, tf_train_labels : batch_labels}\n",
    "    _, l, predictions = session.run(\n",
    "      [optimizer, loss, prediction_output], feed_dict=feed_dict)\n",
    "    if (step % 500 == 0):\n",
    "      print(\"Minibatch loss at step %d: %f\" % (step, l))\n",
    "      print(\"Minibatch accuracy: %.1f%%\" % accuracy(predictions, batch_labels))\n",
    "      print(\"Validation accuracy: %.1f%%\" % accuracy(\n",
    "        prediction_output.eval(\n",
    "                {tf_train_dataset : valid_dataset, tf_train_labels : valid_labels}), valid_labels))\n",
    "  print(\"Test accuracy: %.1f%%\" % accuracy(prediction_output.eval(\n",
    "            {tf_train_dataset : test_dataset, tf_train_labels : test_labels}), test_labels))"
   ]
  },
  {
   "cell_type": "markdown",
   "metadata": {
    "colab_type": "text",
    "id": "ww3SCBUdlkRc"
   },
   "source": [
    "---\n",
    "Problem 3\n",
    "---------\n",
    "Introduce Dropout on the hidden layer of the neural network. Remember: Dropout should only be introduced during training, not evaluation, otherwise your evaluation results would be stochastic as well. TensorFlow provides `nn.dropout()` for that, but you have to make sure it's only inserted during training.\n",
    "\n",
    "What happens to our extreme overfitting case?\n",
    "\n",
    "---"
   ]
  },
  {
   "cell_type": "code",
   "execution_count": 30,
   "metadata": {
    "collapsed": false
   },
   "outputs": [
    {
     "name": "stdout",
     "output_type": "stream",
     "text": [
      "Initialized\n",
      "Minibatch loss at step 0: 641.008545\n",
      "Minibatch accuracy: 8.6%\n",
      "Validation accuracy: 26.0%\n",
      "Minibatch loss at step 500: 139.475861\n",
      "Minibatch accuracy: 98.4%\n",
      "Validation accuracy: 60.0%\n",
      "Minibatch loss at step 1000: 123.300484\n",
      "Minibatch accuracy: 99.2%\n",
      "Validation accuracy: 59.8%\n",
      "Minibatch loss at step 1500: 108.068901\n",
      "Minibatch accuracy: 100.0%\n",
      "Validation accuracy: 60.9%\n",
      "Minibatch loss at step 2000: 95.377007\n",
      "Minibatch accuracy: 100.0%\n",
      "Validation accuracy: 61.0%\n",
      "Minibatch loss at step 2500: 84.172958\n",
      "Minibatch accuracy: 100.0%\n",
      "Validation accuracy: 60.8%\n",
      "Minibatch loss at step 3000: 74.286041\n",
      "Minibatch accuracy: 100.0%\n",
      "Validation accuracy: 61.1%\n",
      "Test accuracy: 84.3%\n"
     ]
    }
   ],
   "source": [
    "graph = tf.Graph()\n",
    "with graph.as_default():\n",
    "\n",
    "  # Input data. For the training data, we use a placeholder that will be fed\n",
    "  # at run time with a training minibatch.\n",
    "  tf_train_dataset = tf.placeholder(tf.float32,\n",
    "                                    shape=(None, image_size * image_size))\n",
    "  tf_train_labels = tf.placeholder(tf.float32, shape=(None, num_labels))\n",
    "\n",
    "  weights_h0 = tf.Variable(\n",
    "    tf.truncated_normal([image_size * image_size, num_hidden_nodes]))\n",
    "  biases_h0 = tf.Variable(tf.zeros([num_hidden_nodes]))\n",
    "  # Add a dropout.\n",
    "  keep_prob = tf.placeholder(tf.float32)\n",
    "  h0 = tf.nn.dropout(tf.nn.relu(tf.matmul(tf_train_dataset, weights_h0) + biases_h0), keep_prob)\n",
    "\n",
    "  # Variables.\n",
    "  weights = tf.Variable(\n",
    "    tf.truncated_normal([num_hidden_nodes, num_labels]))\n",
    "  biases = tf.Variable(tf.zeros([num_labels]))\n",
    "  \n",
    "  # Training computation.\n",
    "  logits = tf.matmul(h0, weights) + biases\n",
    "  loss = tf.reduce_mean(\n",
    "    tf.nn.softmax_cross_entropy_with_logits(logits, tf_train_labels))\n",
    "  regularizers = tf.nn.l2_loss(weights_h0) + tf.nn.l2_loss(biases_h0) + tf.nn.l2_loss(weights) + tf.nn.l2_loss(biases)\n",
    "  loss += 5e-4 * regularizers\n",
    "  \n",
    "  # Optimizer.\n",
    "  optimizer = tf.train.GradientDescentOptimizer(0.25).minimize(loss)\n",
    "  \n",
    "  # Predictions for the training, validation, and test data.\n",
    "  prediction_output = tf.nn.softmax(logits)\n",
    "\n",
    "with tf.Session(graph=graph) as session:\n",
    "  tf.initialize_all_variables().run()\n",
    "  print(\"Initialized\")\n",
    "  for step in range(num_steps):\n",
    "    # Pick an offset within the training data, which has been randomized.\n",
    "    # Note: we could use better randomization across epochs.\n",
    "    offset = (step * batch_size) % (small_train_labels.shape[0] - batch_size)\n",
    "    # Generate a minibatch.\n",
    "    batch_data = small_train_dataset[offset:(offset + batch_size), :]\n",
    "    batch_labels = small_train_labels[offset:(offset + batch_size), :]\n",
    "    # Prepare a dictionary telling the session where to feed the minibatch.\n",
    "    # The key of the dictionary is the placeholder node of the graph to be fed,\n",
    "    # and the value is the numpy array to feed to it.\n",
    "    feed_dict = {tf_train_dataset : batch_data, tf_train_labels : batch_labels, keep_prob: 0.5}\n",
    "    _, l, predictions = session.run(\n",
    "      [optimizer, loss, prediction_output], feed_dict=feed_dict)\n",
    "    if (step % 500 == 0):\n",
    "      print(\"Minibatch loss at step %d: %f\" % (step, l))\n",
    "      print(\"Minibatch accuracy: %.1f%%\" % accuracy(predictions, batch_labels))\n",
    "      print(\"Validation accuracy: %.1f%%\" % accuracy(\n",
    "        prediction_output.eval(\n",
    "                {tf_train_dataset : valid_dataset, tf_train_labels : valid_labels, keep_prob: 1.0}), valid_labels))\n",
    "  print(\"Test accuracy: %.1f%%\" % accuracy(prediction_output.eval(\n",
    "            {tf_train_dataset : test_dataset, tf_train_labels : test_labels,  keep_prob: 1.0}), test_labels))\n"
   ]
  },
  {
   "cell_type": "markdown",
   "metadata": {
    "colab_type": "text",
    "id": "-b1hTz3VWZjw"
   },
   "source": [
    "---\n",
    "Problem 4\n",
    "---------\n",
    "\n",
    "Try to get the best performance you can using a multi-layer model! The best reported test accuracy using a deep network is [97.1%](http://yaroslavvb.blogspot.com/2011/09/notmnist-dataset.html?showComment=1391023266211#c8758720086795711595).\n",
    "\n",
    "One avenue you can explore is to add multiple layers.\n",
    "\n",
    "Another one is to use learning rate decay:\n",
    "\n",
    "    global_step = tf.Variable(0)  # count the number of steps taken.\n",
    "    learning_rate = tf.train.exponential_decay(0.5, step, ...)\n",
    "    optimizer = tf.train.GradientDescentOptimizer(learning_rate).minimize(loss, global_step=global_step)\n",
    " \n",
    " ---\n"
   ]
  },
  {
   "cell_type": "code",
   "execution_count": 61,
   "metadata": {
    "collapsed": false,
    "scrolled": true
   },
   "outputs": [
    {
     "name": "stdout",
     "output_type": "stream",
     "text": [
      "Initialized\n",
      "Minibatch loss at step 0: 2.456793\n",
      "Minibatch accuracy: 10.2%\n",
      "Validation accuracy: 16.6%\n",
      "Minibatch loss at step 500: 0.644806\n",
      "Minibatch accuracy: 84.4%\n",
      "Validation accuracy: 70.7%\n",
      "Minibatch loss at step 1000: 0.558094\n",
      "Minibatch accuracy: 87.1%\n",
      "Validation accuracy: 72.8%\n",
      "Minibatch loss at step 1500: 0.469625\n",
      "Minibatch accuracy: 90.2%\n",
      "Validation accuracy: 74.3%\n",
      "Minibatch loss at step 2000: 0.619600\n",
      "Minibatch accuracy: 86.7%\n",
      "Validation accuracy: 75.1%\n",
      "Minibatch loss at step 2500: 0.396416\n",
      "Minibatch accuracy: 91.8%\n",
      "Validation accuracy: 75.3%\n",
      "Minibatch loss at step 3000: 0.501305\n",
      "Minibatch accuracy: 87.9%\n",
      "Validation accuracy: 75.0%\n",
      "Minibatch loss at step 3500: 0.511345\n",
      "Minibatch accuracy: 88.7%\n",
      "Validation accuracy: 76.0%\n",
      "Minibatch loss at step 4000: 0.417341\n",
      "Minibatch accuracy: 91.0%\n",
      "Validation accuracy: 76.2%\n",
      "Minibatch loss at step 4500: 0.493590\n",
      "Minibatch accuracy: 88.7%\n",
      "Validation accuracy: 76.5%\n",
      "Minibatch loss at step 5000: 0.456712\n",
      "Minibatch accuracy: 89.8%\n",
      "Validation accuracy: 76.6%\n",
      "Minibatch loss at step 5500: 0.526144\n",
      "Minibatch accuracy: 86.7%\n",
      "Validation accuracy: 76.7%\n",
      "Minibatch loss at step 6000: 0.356205\n",
      "Minibatch accuracy: 92.2%\n",
      "Validation accuracy: 76.7%\n",
      "Minibatch loss at step 6500: 0.399678\n",
      "Minibatch accuracy: 92.6%\n",
      "Validation accuracy: 76.8%\n",
      "Minibatch loss at step 7000: 0.412253\n",
      "Minibatch accuracy: 91.0%\n",
      "Validation accuracy: 77.1%\n",
      "Minibatch loss at step 7500: 0.398082\n",
      "Minibatch accuracy: 92.2%\n",
      "Validation accuracy: 77.0%\n",
      "Minibatch loss at step 8000: 0.469993\n",
      "Minibatch accuracy: 89.5%\n",
      "Validation accuracy: 77.2%\n",
      "Minibatch loss at step 8500: 0.505426\n",
      "Minibatch accuracy: 86.3%\n",
      "Validation accuracy: 77.1%\n",
      "Minibatch loss at step 9000: 0.422236\n",
      "Minibatch accuracy: 91.4%\n",
      "Validation accuracy: 77.2%\n",
      "Minibatch loss at step 9500: 0.489631\n",
      "Minibatch accuracy: 87.9%\n",
      "Validation accuracy: 77.3%\n",
      "Minibatch loss at step 10000: 0.457085\n",
      "Minibatch accuracy: 90.2%\n",
      "Validation accuracy: 77.2%\n",
      "Minibatch loss at step 10500: 0.441984\n",
      "Minibatch accuracy: 88.3%\n",
      "Validation accuracy: 77.2%\n",
      "Minibatch loss at step 11000: 0.412309\n",
      "Minibatch accuracy: 91.0%\n",
      "Validation accuracy: 77.3%\n",
      "Minibatch loss at step 11500: 0.275496\n",
      "Minibatch accuracy: 96.1%\n",
      "Validation accuracy: 77.3%\n",
      "Minibatch loss at step 12000: 0.459648\n",
      "Minibatch accuracy: 89.5%\n",
      "Validation accuracy: 77.3%\n",
      "Minibatch loss at step 12500: 0.565643\n",
      "Minibatch accuracy: 85.2%\n",
      "Validation accuracy: 77.3%\n",
      "Minibatch loss at step 13000: 0.454219\n",
      "Minibatch accuracy: 89.5%\n",
      "Validation accuracy: 77.3%\n",
      "Minibatch loss at step 13500: 0.411787\n",
      "Minibatch accuracy: 90.2%\n",
      "Validation accuracy: 77.3%\n",
      "Minibatch loss at step 14000: 0.409813\n",
      "Minibatch accuracy: 90.6%\n",
      "Validation accuracy: 77.3%\n",
      "Minibatch loss at step 14500: 0.447375\n",
      "Minibatch accuracy: 91.0%\n",
      "Validation accuracy: 77.4%\n",
      "Minibatch loss at step 15000: 0.505801\n",
      "Minibatch accuracy: 89.8%\n",
      "Validation accuracy: 77.4%\n",
      "Minibatch loss at step 15500: 0.367088\n",
      "Minibatch accuracy: 92.2%\n",
      "Validation accuracy: 77.4%\n",
      "Minibatch loss at step 16000: 0.446937\n",
      "Minibatch accuracy: 89.1%\n",
      "Validation accuracy: 77.4%\n",
      "Minibatch loss at step 16500: 0.497359\n",
      "Minibatch accuracy: 86.7%\n",
      "Validation accuracy: 77.3%\n",
      "Minibatch loss at step 17000: 0.438429\n",
      "Minibatch accuracy: 89.5%\n",
      "Validation accuracy: 77.3%\n",
      "Minibatch loss at step 17500: 0.391385\n",
      "Minibatch accuracy: 92.6%\n",
      "Validation accuracy: 77.4%\n",
      "Minibatch loss at step 18000: 0.381330\n",
      "Minibatch accuracy: 93.0%\n",
      "Validation accuracy: 77.4%\n",
      "Minibatch loss at step 18500: 0.512094\n",
      "Minibatch accuracy: 88.3%\n",
      "Validation accuracy: 77.3%\n",
      "Minibatch loss at step 19000: 0.445719\n",
      "Minibatch accuracy: 89.5%\n",
      "Validation accuracy: 77.3%\n",
      "Minibatch loss at step 19500: 0.447266\n",
      "Minibatch accuracy: 88.7%\n",
      "Validation accuracy: 77.3%\n",
      "Minibatch loss at step 20000: 0.421410\n",
      "Minibatch accuracy: 89.8%\n",
      "Validation accuracy: 77.3%\n",
      "Test accuracy: 95.1%\n"
     ]
    }
   ],
   "source": [
    "batch_size = 256\n",
    "num_hidden_nodes = 1024\n",
    "num_hidden_nodes1 = 512\n",
    "num_hidden_nodes2 = 128\n",
    "num_steps = 20001\n",
    "\n",
    "graph = tf.Graph()\n",
    "with graph.as_default():\n",
    "\n",
    "  # Input data. For the training data, we use a placeholder that will be fed\n",
    "  # at run time with a training minibatch.\n",
    "  tf_train_dataset = tf.placeholder(tf.float32,\n",
    "                                    shape=(None, image_size * image_size))\n",
    "  tf_train_labels = tf.placeholder(tf.float32, shape=(None, num_labels))\n",
    "\n",
    "  weights_h0 = tf.Variable(\n",
    "    tf.truncated_normal([image_size * image_size, num_hidden_nodes], stddev=np.sqrt(2.0 / (image_size * image_size))))\n",
    "  biases_h0 = tf.Variable(tf.zeros([num_hidden_nodes]))\n",
    "  # Add a dropout.\n",
    "  keep_prob = tf.placeholder(tf.float32)\n",
    "  h0 = tf.nn.dropout(tf.nn.relu(tf.matmul(tf_train_dataset, weights_h0) + biases_h0), keep_prob)\n",
    "\n",
    "  weights_h1 = tf.Variable(\n",
    "    tf.truncated_normal([num_hidden_nodes, num_hidden_nodes1], stddev=np.sqrt(2.0 / num_hidden_nodes)))\n",
    "  biases_h1 = tf.Variable(tf.zeros([num_hidden_nodes1]))\n",
    "  h1 = tf.nn.dropout(tf.nn.relu(tf.matmul(h0, weights_h1) + biases_h1), keep_prob)\n",
    "\n",
    "  weights_h2 = tf.Variable(\n",
    "    tf.truncated_normal([num_hidden_nodes1, num_hidden_nodes2], stddev=np.sqrt(2.0 / num_hidden_nodes)))\n",
    "  biases_h2 = tf.Variable(tf.zeros([num_hidden_nodes2]))\n",
    "  h2 = tf.nn.dropout(tf.nn.relu(tf.matmul(h1, weights_h2) + biases_h2), keep_prob)\n",
    "\n",
    "  # Variables.\n",
    "  weights = tf.Variable(\n",
    "    tf.truncated_normal([num_hidden_nodes2, num_labels], stddev=np.sqrt(2.0 / num_hidden_nodes1)))\n",
    "  biases = tf.Variable(tf.zeros([num_labels]))\n",
    "  \n",
    "  # Training computation.\n",
    "  logits = tf.matmul(h2, weights) + biases\n",
    "  loss = tf.reduce_mean(\n",
    "    tf.nn.softmax_cross_entropy_with_logits(logits, tf_train_labels))\n",
    "  regularizers = tf.nn.l2_loss(weights_h0) + tf.nn.l2_loss(biases_h0) + tf.nn.l2_loss(weights_h1) + tf.nn.l2_loss(biases_h1) + tf.nn.l2_loss(weights_h2) + tf.nn.l2_loss(biases_h2) + tf.nn.l2_loss(weights) + tf.nn.l2_loss(biases)\n",
    "  loss += 1e-4 * regularizers\n",
    "  \n",
    "  # Optimizer.\n",
    "  global_step = tf.Variable(0)  # count the number of steps taken.\n",
    "  learning_rate = tf.train.exponential_decay(0.5, global_step, 1000, 0.65, staircase=True)\n",
    "  optimizer = tf.train.GradientDescentOptimizer(learning_rate).minimize(loss, global_step=global_step)\n",
    "  \n",
    "  # Predictions for the training, validation, and test data.\n",
    "  prediction_output = tf.nn.softmax(logits)\n",
    "\n",
    "with tf.Session(graph=graph) as session:\n",
    "  tf.initialize_all_variables().run()\n",
    "  print(\"Initialized\")\n",
    "  for step in range(num_steps):\n",
    "    # Pick an offset within the training data, which has been randomized.\n",
    "    # Note: we could use better randomization across epochs.\n",
    "    offset = (step * batch_size) % (train_labels.shape[0] - batch_size)\n",
    "    # Generate a minibatch.\n",
    "    batch_data = train_dataset[offset:(offset + batch_size), :]\n",
    "    batch_labels = train_labels[offset:(offset + batch_size), :]\n",
    "    # Prepare a dictionary telling the session where to feed the minibatch.\n",
    "    # The key of the dictionary is the placeholder node of the graph to be fed,\n",
    "    # and the value is the numpy array to feed to it.\n",
    "    feed_dict = {tf_train_dataset : batch_data, tf_train_labels : batch_labels, keep_prob: 0.5}\n",
    "    _, l, predictions = session.run(\n",
    "      [optimizer, loss, prediction_output], feed_dict=feed_dict)\n",
    "    if (step % 500 == 0):\n",
    "      print(\"Minibatch loss at step %d: %f\" % (step, l))\n",
    "      print(\"Minibatch accuracy: %.1f%%\" % accuracy(predictions, batch_labels))\n",
    "      print(\"Validation accuracy: %.1f%%\" % accuracy(\n",
    "        prediction_output.eval(\n",
    "                {tf_train_dataset : valid_dataset, keep_prob: 1.0}), valid_labels))\n",
    "  print(\"Test accuracy: %.1f%%\" % accuracy(prediction_output.eval(\n",
    "            {tf_train_dataset : test_dataset,  keep_prob: 1.0}), test_labels))"
   ]
  },
  {
   "cell_type": "code",
   "execution_count": null,
   "metadata": {
    "collapsed": true
   },
   "outputs": [],
   "source": []
  }
 ],
 "metadata": {
  "colab": {
   "default_view": {},
   "name": "3_regularization.ipynb",
   "provenance": [],
   "version": "0.3.2",
   "views": {}
  },
  "kernelspec": {
   "display_name": "Python 2",
   "language": "python",
   "name": "python2"
  },
  "language_info": {
   "codemirror_mode": {
    "name": "ipython",
    "version": 2
   },
   "file_extension": ".py",
   "mimetype": "text/x-python",
   "name": "python",
   "nbconvert_exporter": "python",
   "pygments_lexer": "ipython2",
   "version": "2.7.10"
  }
 },
 "nbformat": 4,
 "nbformat_minor": 0
}
